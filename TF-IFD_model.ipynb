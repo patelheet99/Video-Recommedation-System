{
 "cells": [
  {
   "cell_type": "code",
   "execution_count": 1,
   "id": "egyptian-romania",
   "metadata": {},
   "outputs": [],
   "source": [
    "import pandas as pd\n",
    "import nltk\n",
    "from nltk.corpus import stopwords\n",
    "import re\n",
    "import string\n",
    "from nltk.tokenize import word_tokenize\n",
    "from nltk.corpus import stopwords\n",
    "from nltk.stem.wordnet import WordNetLemmatizer"
   ]
  },
  {
   "cell_type": "code",
   "execution_count": 2,
   "id": "unique-management",
   "metadata": {},
   "outputs": [
    {
     "data": {
      "text/html": [
       "<div>\n",
       "<style scoped>\n",
       "    .dataframe tbody tr th:only-of-type {\n",
       "        vertical-align: middle;\n",
       "    }\n",
       "\n",
       "    .dataframe tbody tr th {\n",
       "        vertical-align: top;\n",
       "    }\n",
       "\n",
       "    .dataframe thead th {\n",
       "        text-align: right;\n",
       "    }\n",
       "</style>\n",
       "<table border=\"1\" class=\"dataframe\">\n",
       "  <thead>\n",
       "    <tr style=\"text-align: right;\">\n",
       "      <th></th>\n",
       "      <th>Unnamed: 0</th>\n",
       "      <th>Video Id</th>\n",
       "      <th>Title</th>\n",
       "      <th>Description</th>\n",
       "      <th>Category</th>\n",
       "    </tr>\n",
       "  </thead>\n",
       "  <tbody>\n",
       "    <tr>\n",
       "      <th>0</th>\n",
       "      <td>0</td>\n",
       "      <td>iQeeqEeAK08</td>\n",
       "      <td>How I Became a TRAVEL VLOGGER | Make Money Eve...</td>\n",
       "      <td>In this video, I share with you my tips on how...</td>\n",
       "      <td>travel</td>\n",
       "    </tr>\n",
       "    <tr>\n",
       "      <th>1</th>\n",
       "      <td>1</td>\n",
       "      <td>i9E_Blai8vk</td>\n",
       "      <td>Welcome to Bali | Travel Vlog | Priscilla Lee</td>\n",
       "      <td>DISCLAIMER* Please do not ride elephants when ...</td>\n",
       "      <td>travel</td>\n",
       "    </tr>\n",
       "    <tr>\n",
       "      <th>2</th>\n",
       "      <td>2</td>\n",
       "      <td>gtm2O_6_mUM</td>\n",
       "      <td>SIKKIM TRAVEL VLOG | Bagdogra to Gangtok - Vlo...</td>\n",
       "      <td>Hey everyone! I recently went on a trip to Sik...</td>\n",
       "      <td>travel</td>\n",
       "    </tr>\n",
       "    <tr>\n",
       "      <th>3</th>\n",
       "      <td>3</td>\n",
       "      <td>v6eh9zOqDnQ</td>\n",
       "      <td>Top 10 Travel Vloggers</td>\n",
       "      <td>For this list, we're taking a look at YouTuber...</td>\n",
       "      <td>travel</td>\n",
       "    </tr>\n",
       "    <tr>\n",
       "      <th>4</th>\n",
       "      <td>4</td>\n",
       "      <td>BbegGNcvMb0</td>\n",
       "      <td>Travelling to Italy after Lockdown | Dhruv Rat...</td>\n",
       "      <td>Welcome to my First Vlog. Here I share with yo...</td>\n",
       "      <td>travel</td>\n",
       "    </tr>\n",
       "  </tbody>\n",
       "</table>\n",
       "</div>"
      ],
      "text/plain": [
       "   Unnamed: 0     Video Id                                              Title  \\\n",
       "0           0  iQeeqEeAK08  How I Became a TRAVEL VLOGGER | Make Money Eve...   \n",
       "1           1  i9E_Blai8vk      Welcome to Bali | Travel Vlog | Priscilla Lee   \n",
       "2           2  gtm2O_6_mUM  SIKKIM TRAVEL VLOG | Bagdogra to Gangtok - Vlo...   \n",
       "3           3  v6eh9zOqDnQ                             Top 10 Travel Vloggers   \n",
       "4           4  BbegGNcvMb0  Travelling to Italy after Lockdown | Dhruv Rat...   \n",
       "\n",
       "                                         Description Category  \n",
       "0  In this video, I share with you my tips on how...   travel  \n",
       "1  DISCLAIMER* Please do not ride elephants when ...   travel  \n",
       "2  Hey everyone! I recently went on a trip to Sik...   travel  \n",
       "3  For this list, we're taking a look at YouTuber...   travel  \n",
       "4  Welcome to my First Vlog. Here I share with yo...   travel  "
      ]
     },
     "execution_count": 2,
     "metadata": {},
     "output_type": "execute_result"
    }
   ],
   "source": [
    "data=pd.read_csv('Videos_data.csv')\n",
    "data.head()"
   ]
  },
  {
   "cell_type": "code",
   "execution_count": 3,
   "id": "molecular-literacy",
   "metadata": {},
   "outputs": [],
   "source": [
    "data=data.drop('Unnamed: 0',axis=1)"
   ]
  },
  {
   "cell_type": "code",
   "execution_count": 4,
   "id": "blind-spine",
   "metadata": {},
   "outputs": [],
   "source": [
    "data['Description']=data['Description'].fillna(' ')"
   ]
  },
  {
   "cell_type": "code",
   "execution_count": 5,
   "id": "nasty-hunter",
   "metadata": {},
   "outputs": [],
   "source": [
    "data=data.drop(index=data[data.duplicated(subset='Title')].index)"
   ]
  },
  {
   "cell_type": "code",
   "execution_count": 6,
   "id": "european-holmes",
   "metadata": {},
   "outputs": [],
   "source": [
    "# Change to lowercase\n",
    "data['Title'] = data['Title'].map(lambda x: x.lower())\n",
    "data['Description'] = data['Description'].map(lambda x: x.lower())\n",
    "\n",
    "# Remove numbers\n",
    "data['Title'] = data['Title'].map(lambda x: re.sub(r'\\d+', '', x))\n",
    "data['Description'] = data['Description'].map(lambda x: re.sub(r'\\d+', '', x))\n",
    "\n",
    "# Remove Punctuation\n",
    "data['Title']  = data['Title'].map(lambda x: x.translate(x.maketrans('', '', string.punctuation)))\n",
    "data['Description']  = data['Description'].map(lambda x: x.translate(x.maketrans('', '', string.punctuation)))\n",
    "\n",
    "# Remove white spaces\n",
    "data['Title'] = data['Title'].map(lambda x: x.strip())\n",
    "data['Description'] = data['Description'].map(lambda x: x.strip())\n",
    "\n",
    "# Tokenize into words\n",
    "data['Title'] = data['Title'].map(lambda x: word_tokenize(x))\n",
    "data['Description'] = data['Description'].map(lambda x: word_tokenize(x))\n",
    " \n",
    "# Remove non alphabetic tokens\n",
    "data['Title'] = data['Title'].map(lambda x: [word for word in x if word.isalpha()])\n",
    "data['Description'] = data['Description'].map(lambda x: [word for word in x if word.isalpha()])\n",
    "\n",
    "# filter out stop words\n",
    "stop_words = set(stopwords.words('english'))\n",
    "data['Title'] = data['Title'].map(lambda x: [w for w in x if not w in stop_words])\n",
    "data['Description'] = data['Description'].map(lambda x: [w for w in x if not w in stop_words])\n",
    "\n",
    "# Word Lemmatization\n",
    "lem = WordNetLemmatizer()\n",
    "data['Title'] = data['Title'].map(lambda x: [lem.lemmatize(word,\"v\") for word in x])\n",
    "data['Description'] = data['Description'].map(lambda x: [lem.lemmatize(word,\"v\") for word in x])\n",
    "\n",
    "# Turn lists back to string\n",
    "data['Title'] = data['Title'].map(lambda x: ' '.join(x))\n",
    "data['Description'] = data['Description'].map(lambda x: ' '.join(x))"
   ]
  },
  {
   "cell_type": "code",
   "execution_count": 8,
   "id": "north-individual",
   "metadata": {},
   "outputs": [],
   "source": [
    "data.to_csv('Finaldata.csv',index=False)"
   ]
  },
  {
   "cell_type": "code",
   "execution_count": 7,
   "id": "reserved-british",
   "metadata": {},
   "outputs": [],
   "source": [
    "data['Text']=data['Title']+data['Description']"
   ]
  },
  {
   "cell_type": "code",
   "execution_count": 8,
   "id": "collective-bandwidth",
   "metadata": {},
   "outputs": [
    {
     "data": {
      "text/html": [
       "<div>\n",
       "<style scoped>\n",
       "    .dataframe tbody tr th:only-of-type {\n",
       "        vertical-align: middle;\n",
       "    }\n",
       "\n",
       "    .dataframe tbody tr th {\n",
       "        vertical-align: top;\n",
       "    }\n",
       "\n",
       "    .dataframe thead th {\n",
       "        text-align: right;\n",
       "    }\n",
       "</style>\n",
       "<table border=\"1\" class=\"dataframe\">\n",
       "  <thead>\n",
       "    <tr style=\"text-align: right;\">\n",
       "      <th></th>\n",
       "      <th>Video Id</th>\n",
       "      <th>Title</th>\n",
       "      <th>Description</th>\n",
       "      <th>Category</th>\n",
       "      <th>Text</th>\n",
       "    </tr>\n",
       "  </thead>\n",
       "  <tbody>\n",
       "    <tr>\n",
       "      <th>0</th>\n",
       "      <td>iQeeqEeAK08</td>\n",
       "      <td>become travel vlogger make money even youre st...</td>\n",
       "      <td>video share tip become travel blogger make mon...</td>\n",
       "      <td>travel</td>\n",
       "      <td>become travel vlogger make money even youre st...</td>\n",
       "    </tr>\n",
       "    <tr>\n",
       "      <th>1</th>\n",
       "      <td>i9E_Blai8vk</td>\n",
       "      <td>welcome bali travel vlog priscilla lee</td>\n",
       "      <td>disclaimer please ride elephants visit country...</td>\n",
       "      <td>travel</td>\n",
       "      <td>welcome bali travel vlog priscilla leedisclaim...</td>\n",
       "    </tr>\n",
       "    <tr>\n",
       "      <th>2</th>\n",
       "      <td>gtm2O_6_mUM</td>\n",
       "      <td>sikkim travel vlog bagdogra gangtok vlog north...</td>\n",
       "      <td>hey everyone recently go trip sikkim friend sh...</td>\n",
       "      <td>travel</td>\n",
       "      <td>sikkim travel vlog bagdogra gangtok vlog north...</td>\n",
       "    </tr>\n",
       "    <tr>\n",
       "      <th>3</th>\n",
       "      <td>v6eh9zOqDnQ</td>\n",
       "      <td>top travel vloggers</td>\n",
       "      <td>list take look youtubers travel globe make us ...</td>\n",
       "      <td>travel</td>\n",
       "      <td>top travel vloggerslist take look youtubers tr...</td>\n",
       "    </tr>\n",
       "    <tr>\n",
       "      <th>4</th>\n",
       "      <td>BbegGNcvMb0</td>\n",
       "      <td>travel italy lockdown dhruv rathee vlog</td>\n",
       "      <td>welcome first vlog share journey italy lockdow...</td>\n",
       "      <td>travel</td>\n",
       "      <td>travel italy lockdown dhruv rathee vlogwelcome...</td>\n",
       "    </tr>\n",
       "  </tbody>\n",
       "</table>\n",
       "</div>"
      ],
      "text/plain": [
       "      Video Id                                              Title  \\\n",
       "0  iQeeqEeAK08  become travel vlogger make money even youre st...   \n",
       "1  i9E_Blai8vk             welcome bali travel vlog priscilla lee   \n",
       "2  gtm2O_6_mUM  sikkim travel vlog bagdogra gangtok vlog north...   \n",
       "3  v6eh9zOqDnQ                                top travel vloggers   \n",
       "4  BbegGNcvMb0            travel italy lockdown dhruv rathee vlog   \n",
       "\n",
       "                                         Description Category  \\\n",
       "0  video share tip become travel blogger make mon...   travel   \n",
       "1  disclaimer please ride elephants visit country...   travel   \n",
       "2  hey everyone recently go trip sikkim friend sh...   travel   \n",
       "3  list take look youtubers travel globe make us ...   travel   \n",
       "4  welcome first vlog share journey italy lockdow...   travel   \n",
       "\n",
       "                                                Text  \n",
       "0  become travel vlogger make money even youre st...  \n",
       "1  welcome bali travel vlog priscilla leedisclaim...  \n",
       "2  sikkim travel vlog bagdogra gangtok vlog north...  \n",
       "3  top travel vloggerslist take look youtubers tr...  \n",
       "4  travel italy lockdown dhruv rathee vlogwelcome...  "
      ]
     },
     "execution_count": 8,
     "metadata": {},
     "output_type": "execute_result"
    }
   ],
   "source": [
    "data.head()"
   ]
  },
  {
   "cell_type": "code",
   "execution_count": 9,
   "id": "pretty-municipality",
   "metadata": {},
   "outputs": [],
   "source": [
    "from sklearn.feature_extraction.text import TfidfVectorizer,CountVectorizer\n",
    "from sklearn.metrics.pairwise import cosine_similarity,linear_kernel"
   ]
  },
  {
   "cell_type": "code",
   "execution_count": 10,
   "id": "respective-negotiation",
   "metadata": {},
   "outputs": [
    {
     "data": {
      "text/plain": [
       "array([[1.        , 0.07755667, 0.05216405, ..., 0.        , 0.0541332 ,\n",
       "        0.        ],\n",
       "       [0.07755667, 1.        , 0.10619885, ..., 0.        , 0.        ,\n",
       "        0.        ],\n",
       "       [0.05216405, 0.10619885, 1.        , ..., 0.        , 0.02470831,\n",
       "        0.03086067],\n",
       "       ...,\n",
       "       [0.        , 0.        , 0.        , ..., 1.        , 0.33796318,\n",
       "        0.06030227],\n",
       "       [0.0541332 , 0.        , 0.02470831, ..., 0.33796318, 1.        ,\n",
       "        0.09607689],\n",
       "       [0.        , 0.        , 0.03086067, ..., 0.06030227, 0.09607689,\n",
       "        1.        ]])"
      ]
     },
     "execution_count": 10,
     "metadata": {},
     "output_type": "execute_result"
    }
   ],
   "source": [
    "cv = CountVectorizer()\n",
    "count_matrix=cv.fit_transform(data['Text'])\n",
    "similarity = cosine_similarity(count_matrix)\n",
    "similarity"
   ]
  },
  {
   "cell_type": "code",
   "execution_count": 11,
   "id": "specialized-niger",
   "metadata": {},
   "outputs": [],
   "source": [
    "tf=TfidfVectorizer(analyzer='word',ngram_range=(1,2),min_df=0,stop_words='english')\n",
    "tfidf_matrix=tf.fit_transform(data['Text'])"
   ]
  },
  {
   "cell_type": "code",
   "execution_count": 12,
   "id": "fantastic-local",
   "metadata": {},
   "outputs": [],
   "source": [
    "titles=data['Title']\n",
    "indices=pd.Series(data.index,index=data['Title'])"
   ]
  },
  {
   "cell_type": "code",
   "execution_count": 13,
   "id": "obvious-workshop",
   "metadata": {},
   "outputs": [
    {
     "data": {
      "text/plain": [
       "Title\n",
       "become travel vlogger make money even youre start youtuber                                0\n",
       "welcome bali travel vlog priscilla lee                                                    1\n",
       "sikkim travel vlog bagdogra gangtok vlog north east india kritika goel                    2\n",
       "top travel vloggers                                                                       3\n",
       "travel italy lockdown dhruv rathee vlog                                                   4\n",
       "                                                                                       ... \n",
       "white paint green bad bad bad                                                          3463\n",
       "fantasy fest body paint zombie bike ride duval street key west                         3464\n",
       "nude girls body paint                                                                  3465\n",
       "se abstract art action body paint untitled majorca falcon tower gd film bmpcc k uhd    3466\n",
       "want artist paint portrait hirugao love affairs afternoon                              3467\n",
       "Length: 3253, dtype: int64"
      ]
     },
     "execution_count": 13,
     "metadata": {},
     "output_type": "execute_result"
    }
   ],
   "source": [
    "indices"
   ]
  },
  {
   "cell_type": "code",
   "execution_count": 33,
   "id": "hybrid-gates",
   "metadata": {},
   "outputs": [],
   "source": [
    "def get_recom_video(title):\n",
    "    idx=indices[title]\n",
    "    scores=list(enumerate(similarity[idx]))\n",
    "    scores=sorted(scores,key=lambda x:x[1],reverse=True)\n",
    "    scores=scores[1:11]\n",
    "    video_index=[i[0] for i in scores]\n",
    "    videos_detail=list(data['Video Id'].iloc[video_index])\n",
    "    return videos_detail"
   ]
  },
  {
   "cell_type": "code",
   "execution_count": 34,
   "id": "artistic-argentina",
   "metadata": {},
   "outputs": [
    {
     "data": {
      "text/plain": [
       "['ytP5Lpfjiik',\n",
       " 'Yq8mBlb1L2I',\n",
       " 'U95vNX_aVbA',\n",
       " 'h_BZjMiOk_s',\n",
       " 'uzJXE34UwHU',\n",
       " 'cSw50Jw0H34',\n",
       " 'G7kqBZs01o4',\n",
       " 'NkRKL8IsbnY',\n",
       " 'Y9cXTmraOVE',\n",
       " 'fesetFJ6fLU']"
      ]
     },
     "execution_count": 34,
     "metadata": {},
     "output_type": "execute_result"
    }
   ],
   "source": [
    "get_recom_video('top travel vloggers')"
   ]
  },
  {
   "cell_type": "code",
   "execution_count": 33,
   "id": "noble-poultry",
   "metadata": {},
   "outputs": [
    {
     "data": {
      "text/plain": [
       "1392            czn burak cook delicious food short short\n",
       "1616            czn burak cook delicious food short short\n",
       "1638            czn burak cook delicious food short short\n",
       "1654            czn burak cook delicious food short short\n",
       "1611              czn burak cook delicious food food time\n",
       "1273    eat palak chicken curry basmati rice delicious...\n",
       "1286    satisfy video home cook show cook delicious fo...\n",
       "243                   indian travel nubian villages sudan\n",
       "1549    grill fish green mango lunch eat delicious foo...\n",
       "1344    primitive technology eat delicious cook egg du...\n",
       "Name: Title, dtype: object"
      ]
     },
     "execution_count": 33,
     "metadata": {},
     "output_type": "execute_result"
    }
   ],
   "source": [
    "get_recom_video('delicious food')"
   ]
  },
  {
   "cell_type": "code",
   "execution_count": null,
   "id": "cardiac-nepal",
   "metadata": {},
   "outputs": [],
   "source": []
  }
 ],
 "metadata": {
  "kernelspec": {
   "display_name": "Python 3",
   "language": "python",
   "name": "python3"
  },
  "language_info": {
   "codemirror_mode": {
    "name": "ipython",
    "version": 3
   },
   "file_extension": ".py",
   "mimetype": "text/x-python",
   "name": "python",
   "nbconvert_exporter": "python",
   "pygments_lexer": "ipython3",
   "version": "3.8.5"
  }
 },
 "nbformat": 4,
 "nbformat_minor": 5
}
